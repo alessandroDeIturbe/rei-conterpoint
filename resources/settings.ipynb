{
 "cells": [
  {
   "cell_type": "code",
   "execution_count": null,
   "metadata": {},
   "outputs": [],
   "source": [
    "import json\n",
    "import os\n",
    "from pathlib import Path\n",
    "import tkinter as tk\n",
    "from tkinter import filedialog"
   ]
  },
  {
   "cell_type": "code",
   "execution_count": null,
   "metadata": {},
   "outputs": [],
   "source": [
    "title = \"SETTINGS: \"\n",
    "settings_file = Path(\"resources/settings.json\")\n",
    "default_firmus = Path(\"resources/default_firmus.mxl\")"
   ]
  },
  {
   "cell_type": "code",
   "execution_count": null,
   "metadata": {},
   "outputs": [],
   "source": [
    "def import_user_settings(settings_file=settings_file):\n",
    "    if os.path.exists(settings_file):\n",
    "        with open(settings_file, \"r\") as f:\n",
    "            settings = json.load(f)\n",
    "            print(f\"{title}settings.json founded in: {settings_file}\")\n",
    "            return [settings, default_firmus]\n",
    "    else:\n",
    "        root = tk.Tk()\n",
    "        root.withdraw()\n",
    "        settings = {\n",
    "            \"os_path\": filedialog.askopenfilename(),\n",
    "            \"defaut_firmus\": str(default_firmus),\n",
    "        }\n",
    "\n",
    "        with open(settings_file, \"w\") as f:\n",
    "            json.dump(settings, f)\n",
    "\n",
    "        print(f\"{title}settings.json founded in: {settings_file}\")\n",
    "        return [settings, default_firmus]"
   ]
  }
 ],
 "metadata": {
  "kernelspec": {
   "display_name": "music21",
   "language": "python",
   "name": "python3"
  },
  "language_info": {
   "codemirror_mode": {
    "name": "ipython",
    "version": 3
   },
   "file_extension": ".py",
   "mimetype": "text/x-python",
   "name": "python",
   "nbconvert_exporter": "python",
   "pygments_lexer": "ipython3",
   "version": "3.12.7"
  }
 },
 "nbformat": 4,
 "nbformat_minor": 2
}
